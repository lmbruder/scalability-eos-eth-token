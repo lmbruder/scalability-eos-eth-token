{
 "cells": [
  {
   "cell_type": "code",
   "execution_count": 2,
   "metadata": {
    "scrolled": false
   },
   "outputs": [],
   "source": [
    "import os\n",
    "import pandas as pd\n",
    "import matplotlib.dates as md\n",
    "import matplotlib.pyplot as plt\n",
    "from matplotlib.ticker import MaxNLocator\n",
    "from matplotlib import style\n",
    "from sklearn.linear_model import LinearRegression\n",
    "from sklearn.metrics import mean_squared_error, r2_score\n",
    "\n",
    "style.use('ggplot')\n",
    "plt.rcParams['figure.figsize'] = (14,7)"
   ]
  },
  {
   "cell_type": "code",
   "execution_count": 3,
   "metadata": {},
   "outputs": [],
   "source": [
    "def calculate_trial_means(folder):\n",
    "    \n",
    "    trials = os.listdir(directory + folder)\n",
    "    differences = []\n",
    "\n",
    "    for individual_trial in trials:\n",
    "        if individual_trial == \".ipynb_checkpoints\":\n",
    "            continue\n",
    "        current_path = directory + folder + \"/\" + individual_trial + \"/\"\n",
    "        differences.append(results_individual_trial(current_path))\n",
    "    \n",
    "    differences_df = pd.DataFrame(differences)\n",
    "    slope = differences_df['slope_diff'].agg(['mean', 'sem']).fillna(0).to_dict()\n",
    "    tx_per_sec = differences_df['tx_per_sec'].agg(['mean', 'sem']).fillna(0).to_dict()\n",
    "    \n",
    "    mean_sem = {'mean_slope': round(slope['mean'], 4), 'mean_tx': round(tx_per_sec['mean'], 4)}\n",
    "    return mean_sem\n"
   ]
  },
  {
   "cell_type": "code",
   "execution_count": 14,
   "metadata": {},
   "outputs": [],
   "source": [
    "def results_individual_trial(current_path):\n",
    "    global lost_transactions\n",
    "    global changed_order_count\n",
    "    \n",
    "    # Submissions\n",
    "    #print(current_path)\n",
    "    submits = pd.read_json(path_or_buf=current_path + 'submits.json', convert_dates=False)\n",
    "    start_time = submits['timestamp'].values[0]\n",
    "    submits['timestamp'] = (submits['timestamp'] - start_time) / 1000\n",
    "    submits = submits.drop(columns = ['txHash'])\n",
    "    submits = submits.set_index('index')\n",
    "    \n",
    "    # Blocks\n",
    "    global blocks\n",
    "    blocks = pd.read_json(path_or_buf=current_path + 'blocks.json', convert_dates=False)\n",
    "    blocks['timestamp'] = blocks['timestamp'] - start_time / 1000\n",
    "    blocks.loc[-1] = [0, blocks['timestamp'].values[0]]\n",
    "    blocks.shift(1)\n",
    "    blocks.sort_index(inplace=True) \n",
    "    blocks = blocks.set_index('amountTx')\n",
    "    \n",
    "    # Linear regression\n",
    "    # Submit slope\n",
    "    x_submit = submits.timestamp.values.reshape(-1,1)\n",
    "    y_submit = submits.index.values\n",
    "    reg_submit = LinearRegression().fit(x_submit, y_submit)\n",
    "    submit_slope = reg_submit.coef_\n",
    "    \n",
    "    # Blocks slope\n",
    "    x_blocks = blocks.timestamp.values.reshape(-1,1)\n",
    "    y_blocks = blocks.index.values\n",
    "    reg_blocks = LinearRegression().fit(x_blocks, y_blocks)\n",
    "    y_blocks_pred = reg_blocks.predict(x_blocks)\n",
    "\n",
    "    \n",
    "    slope_difference = abs((reg_blocks.coef_ / reg_submit.coef_) - 1)\n",
    "    \n",
    "    return {'tx_per_sec': reg_submit.coef_[0], \n",
    "            'slope_diff': slope_difference[0]}"
   ]
  },
  {
   "cell_type": "code",
   "execution_count": 18,
   "metadata": {},
   "outputs": [],
   "source": [
    "global directory\n",
    "directory = \"results/ethereum/baseload_0/\"\n",
    "\n",
    "files = os.listdir(directory)\n",
    "\n",
    "results_avg = pd.DataFrame(\n",
    "    columns = ['mean_slope', 'mean_tx','trial_folder']\n",
    ")\n",
    "\n",
    "for sub_folder in files:\n",
    "    if sub_folder == \".ipynb_checkpoints\":\n",
    "        continue\n",
    "    mean_sem = calculate_trial_means(sub_folder)\n",
    "    mean_sem['trial_folder'] = sub_folder\n",
    "    results_avg = results_avg.append(mean_sem, ignore_index=True)\n",
    "    \n",
    "results_avg = results_avg.set_index('trial_folder')\n",
    "results_avg = results_avg.sort_values(by=['mean_tx'])"
   ]
  },
  {
   "cell_type": "code",
   "execution_count": 20,
   "metadata": {
    "scrolled": false
   },
   "outputs": [
    {
     "data": {
      "image/png": "[encoded data removed]",
      "text/plain": [
       "<Figure size 432x288 with 1 Axes>"
      ]
     },
     "metadata": {
      "needs_background": "light"
     },
     "output_type": "display_data"
    }
   ],
   "source": [
    "fig = plt.figure()\n",
    "ax=fig.add_subplot(111)\n",
    "\n",
    "ax.plot(results_avg['mean_tx'], results_avg['mean_slope'], label='Based on block timestamp', color='#EE442F')\n",
    "\n",
    "ax.set_ylabel('Slope deviation')\n",
    "ax.set_xlabel('Transactions per second')\n",
    "ax.xaxis.set_ticks([0, 10, 20, 30, 40, 50, 60, 70, 80, 90])\n",
    "\n",
    "\n",
    "plt.legend()\n",
    "plt.show()"
   ]
  }
 ],
 "metadata": {
  "kernelspec": {
   "display_name": "Python 3",
   "language": "python",
   "name": "python3"
  },
  "language_info": {
   "codemirror_mode": {
    "name": "ipython",
    "version": 3
   },
   "file_extension": ".py",
   "mimetype": "text/x-python",
   "name": "python",
   "nbconvert_exporter": "python",
   "pygments_lexer": "ipython3",
   "version": "3.6.7"
  }
 },
 "nbformat": 4,
 "nbformat_minor": 5
}
